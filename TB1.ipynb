{
 "cells": [
  {
   "cell_type": "code",
   "execution_count": 1,
   "metadata": {},
   "outputs": [],
   "source": [
    "from pubnub.pnconfiguration import PNConfiguration\n",
    "from pubnub.pubnub import PubNub, SubscribeListener\n",
    "from pubnub.enums import PNStatusCategory\n",
    "\n",
    "pnconfig = PNConfiguration()\n",
    "pnconfig.subscribe_key=\"sub-c-b1cadece-f0fa-11e3-928e-02ee2ddab7fe\"\n",
    "# for twitter: subkey: \"sub-c-78806dd4-42a6-11e4-aed8-02ee2ddab7fe\", channel: \"pubnub-twitter\"\n",
    "# for game: subkey: \"sub-c-b1cadece-f0fa-11e3-928e-02ee2ddab7fe\", channel: \"pubnub-game-state\"\n",
    "pnconfig.ssl = False\n",
    "\n",
    "pubnub = PubNub(pnconfig)"
   ]
  },
  {
   "cell_type": "code",
   "execution_count": 2,
   "metadata": {},
   "outputs": [
    {
     "name": "stdout",
     "output_type": "stream",
     "text": [
      "connected\n"
     ]
    }
   ],
   "source": [
    "my_listener = SubscribeListener()\n",
    "pubnub.add_listener(my_listener)\n",
    "\n",
    "a = pubnub.subscribe().channels('pubnub-game-state').execute()\n",
    "my_listener.wait_for_connect()\n",
    "print('connected')\n",
    "\n",
    "def sampling(a, b, total):\n",
    "    data = []\n",
    "    hashMap = [[] for bucket in range(b)]\n",
    "    for i in range(0, total):\n",
    "        result = my_listener.wait_for_message_on('pubnub-game-state')\n",
    "        hashkey = hash(result.message[\"player_id\"]) % len(hashMap)\n",
    "        filter_condition = filter_data(result, 'action_type', ['Instant', 'AoE'])\n",
    "        if hashkey <= a and filter_condition:\n",
    "            data.append(result.message)\n",
    "    return data\n",
    "\n",
    "def filter_data(data, var, condition):\n",
    "    b = [0] * 10\n",
    "    hash_data = hash(data.message[var]) % 10\n",
    "    for i in condition:\n",
    "        hash_condition = hash(i) % 10\n",
    "        b[hash_condition] = 1\n",
    "    if (b[hash_data] == 1):\n",
    "        return True\n"
   ]
  },
  {
   "cell_type": "code",
   "execution_count": 3,
   "metadata": {
    "collapsed": true
   },
   "outputs": [],
   "source": [
    "from collections import Counter\n",
    "from itertools import compress, product\n",
    "def combinations(items):\n",
    "    return [tuple(compress(items,mask)) for mask in product(*[[0,1]]*len(items))]\n",
    "\n",
    "\n",
    "def countItemSet(data,min_frequent_item=2, set_item=None):\n",
    "    \n",
    "    if (set_item == None):\n",
    "        features = [key for key in data[0]]\n",
    "        feature_combinations = combinations(features)\n",
    "        feature_combinations.sort(key=len)\n",
    "        feature_combinations.pop(0)\n",
    "    else :\n",
    "        feature_combinations = set_item\n",
    "    \n",
    "    data_frequent = []\n",
    "    for feature_combination in feature_combinations:\n",
    "        temp_data = []\n",
    "        for dt in data:\n",
    "            temp = []\n",
    "            for feature in feature_combination :\n",
    "                temp.append(dt[feature])\n",
    "\n",
    "            if ( len(temp) > 0):\n",
    "                temp_data.append(tuple(temp))\n",
    "\n",
    "        count_items = Counter(temp_data)\n",
    "        count_items = {key:val for key, val in count_items.items() if val >= min_frequent_item }\n",
    "        if len(count_items):\n",
    "            data_frequent.append( (feature_combination, count_items))\n",
    "\n",
    "    data_frequent = filter(None, data_frequent)\n",
    "    return list(data_frequent)"
   ]
  },
  {
   "cell_type": "code",
   "execution_count": 112,
   "metadata": {},
   "outputs": [],
   "source": [
    "from efficient_apriori import apriori\n",
    "\n",
    "def countItemSetbyApriori(data,min_supp =0.5,min_conf=0):\n",
    "    features = [key for key in data[0]]     \n",
    "    temp_data = []\n",
    "    for dt in data:\n",
    "        temp = []\n",
    "        for feature in features :\n",
    "            temp.append(str(dt[feature]))\n",
    "\n",
    "        if ( len(temp) > 0):\n",
    "            temp_data.append(tuple(temp))\n",
    "            \n",
    "    return apriori(list(temp_data),min_supp,min_conf)\n"
   ]
  },
  {
   "cell_type": "code",
   "execution_count": 113,
   "metadata": {},
   "outputs": [
    {
     "data": {
      "text/plain": [
       "({1: {('13',): 4,\n",
       "   ('19',): 4,\n",
       "   ('27',): 4,\n",
       "   ('AoE',): 11,\n",
       "   ('Arcane Explosion',): 5,\n",
       "   ('DoT',): 9,\n",
       "   ('Frostbolt',): 4,\n",
       "   ('Immolate',): 4,\n",
       "   ('Instant',): 11,\n",
       "   ('Over 9000',): 4,\n",
       "   ('Rend',): 5,\n",
       "   ('Ultima',): 4},\n",
       "  2: {('AoE', 'Arcane Explosion'): 5,\n",
       "   ('AoE', 'Ultima'): 4,\n",
       "   ('DoT', 'Immolate'): 4,\n",
       "   ('DoT', 'Rend'): 5,\n",
       "   ('Frostbolt', 'Instant'): 4,\n",
       "   ('Instant', 'Over 9000'): 4}},\n",
       " [{Arcane Explosion} -> {AoE},\n",
       "  {Ultima} -> {AoE},\n",
       "  {Immolate} -> {DoT},\n",
       "  {Rend} -> {DoT},\n",
       "  {Frostbolt} -> {Instant},\n",
       "  {Over 9000} -> {Instant}])"
      ]
     },
     "execution_count": 113,
     "metadata": {},
     "output_type": "execute_result"
    }
   ],
   "source": [
    "countItemSetbyApriori(data,0.1,1)"
   ]
  },
  {
   "cell_type": "code",
   "execution_count": null,
   "metadata": {
    "collapsed": true
   },
   "outputs": [],
   "source": []
  }
 ],
 "metadata": {
  "kernelspec": {
   "display_name": "Python 3",
   "language": "python",
   "name": "python3"
  },
  "language_info": {
   "codemirror_mode": {
    "name": "ipython",
    "version": 3
   },
   "file_extension": ".py",
   "mimetype": "text/x-python",
   "name": "python",
   "nbconvert_exporter": "python",
   "pygments_lexer": "ipython3",
   "version": "3.6.3"
  }
 },
 "nbformat": 4,
 "nbformat_minor": 2
}
