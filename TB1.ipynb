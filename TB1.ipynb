{
 "cells": [
  {
   "cell_type": "code",
   "execution_count": 1,
   "metadata": {},
   "outputs": [],
   "source": [
    "from pubnub.pnconfiguration import PNConfiguration\n",
    "from pubnub.pubnub import PubNub, SubscribeListener\n",
    "from pubnub.enums import PNStatusCategory\n",
    "\n",
    "pnconfig = PNConfiguration()\n",
    "pnconfig.subscribe_key=\"sub-c-b1cadece-f0fa-11e3-928e-02ee2ddab7fe\"\n",
    "# for twitter: subkey: \"sub-c-78806dd4-42a6-11e4-aed8-02ee2ddab7fe\", channel: \"pubnub-twitter\"\n",
    "# for game: subkey: \"sub-c-b1cadece-f0fa-11e3-928e-02ee2ddab7fe\", channel: \"pubnub-game-state\"\n",
    "pnconfig.ssl = False\n",
    "\n",
    "pubnub = PubNub(pnconfig)"
   ]
  },
  {
   "cell_type": "code",
   "execution_count": 2,
   "metadata": {},
   "outputs": [
    {
     "name": "stdout",
     "output_type": "stream",
     "text": [
      "connected\n",
      "Processing Data\n",
      "32\n"
     ]
    }
   ],
   "source": [
    "def sampling(a, b, data, key):\n",
    "    sample = False\n",
    "    hashkey = hash(data.message[key]) % b\n",
    "    if hashkey < a:\n",
    "        sample = True\n",
    "    return sample\n",
    "\n",
    "my_listener = SubscribeListener()\n",
    "pubnub.add_listener(my_listener)\n",
    "\n",
    "pubnub.subscribe().channels('pubnub-game-state').execute()\n",
    "my_listener.wait_for_connect()\n",
    "print('connected')\n",
    "\n",
    "\n",
    "print \"Processing Data\"\n",
    "total = 100\n",
    "data = []\n",
    "for i in range(0, total):\n",
    "    result = my_listener.wait_for_message_on('pubnub-game-state')\n",
    "    if sampling(3, 10, result, \"player_id\"):\n",
    "        data.append(result.message)\n",
    "        \n",
    "print len(data)"
   ]
  }
 ],
 "metadata": {
  "kernelspec": {
   "display_name": "Python 2",
   "language": "python",
   "name": "python2"
  },
  "language_info": {
   "codemirror_mode": {
    "name": "ipython",
    "version": 2
   },
   "file_extension": ".py",
   "mimetype": "text/x-python",
   "name": "python",
   "nbconvert_exporter": "python",
   "pygments_lexer": "ipython2",
   "version": "2.7.15"
  }
 },
 "nbformat": 4,
 "nbformat_minor": 2
}
