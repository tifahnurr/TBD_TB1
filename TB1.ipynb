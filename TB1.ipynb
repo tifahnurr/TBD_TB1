{
 "cells": [
  {
   "cell_type": "code",
   "execution_count": 13,
   "metadata": {
    "collapsed": true
   },
   "outputs": [],
   "source": [
    "from pubnub.pnconfiguration import PNConfiguration\n",
    "from pubnub.pubnub import PubNub, SubscribeListener\n",
    "from pubnub.enums import PNStatusCategory\n",
    "\n",
    "pnconfig = PNConfiguration()\n",
    "pnconfig.subscribe_key=\"sub-c-b1cadece-f0fa-11e3-928e-02ee2ddab7fe\"\n",
    "# for twitter: subkey: \"sub-c-78806dd4-42a6-11e4-aed8-02ee2ddab7fe\", channel: \"pubnub-twitter\"\n",
    "# for game: subkey: \"sub-c-b1cadece-f0fa-11e3-928e-02ee2ddab7fe\", channel: \"pubnub-game-state\"\n",
    "pnconfig.ssl = False\n",
    "\n",
    "pubnub = PubNub(pnconfig)"
   ]
  },
  {
   "cell_type": "code",
   "execution_count": 28,
   "metadata": {},
   "outputs": [
    {
     "name": "stdout",
     "output_type": "stream",
     "text": [
      "connected\n",
      "{'action_type': 'AoE', 'player_id': 861, 'coord_x': 37, 'coord_y': 81, 'action_value': 421, 'action_name': 'Curaga'}\n",
      "{'action_type': 'AoE', 'player_id': 595, 'coord_x': 73, 'coord_y': 26, 'action_value': 486, 'action_name': 'Curaga'}\n",
      "{'action_type': 'AoE', 'player_id': 528, 'coord_x': 20, 'coord_y': 35, 'action_value': 436, 'action_name': 'Curaga'}\n",
      "{'action_type': 'AoE', 'player_id': 543, 'coord_x': 20, 'coord_y': 17, 'action_value': 420, 'action_name': 'Curaga'}\n",
      "{'action_type': 'Instant', 'player_id': 790, 'coord_x': 37, 'coord_y': 85, 'action_value': 423, 'action_name': 'Over 9000'}\n",
      "{'action_type': 'DoT', 'player_id': 596, 'coord_x': 27, 'coord_y': 22, 'action_value': 435, 'action_name': 'Immolate'}\n",
      "{'action_type': 'Instant', 'player_id': 876, 'coord_x': 39, 'coord_y': 17, 'action_value': 722, 'action_name': 'Over 9000'}\n",
      "{'action_type': 'Instant', 'player_id': 956, 'coord_x': 85, 'coord_y': 42, 'action_value': 543, 'action_name': 'Heal'}\n",
      "{'action_type': 'Instant', 'player_id': 624, 'coord_x': 26, 'coord_y': 21, 'action_value': 330, 'action_name': 'Over 9000'}\n",
      "{'action_type': 'AoE', 'player_id': 916, 'coord_x': 15, 'coord_y': 21, 'action_value': 666, 'action_name': 'Arcane Explosion'}\n"
     ]
    }
   ],
   "source": [
    "my_listener = SubscribeListener()\n",
    "pubnub.add_listener(my_listener)\n",
    "\n",
    "pubnub.subscribe().channels('pubnub-game-state').execute()\n",
    "my_listener.wait_for_connect()\n",
    "print('connected')\n",
    "\n",
    "#pubnub.publish().channel('pubnub-game-state').message({}).sync()\n",
    "\n",
    "for i in range(0, 10):\n",
    "    result = my_listener.wait_for_message_on('pubnub-game-state')\n",
    "    print(result.message)\n"
   ]
  }
 ],
 "metadata": {
  "kernelspec": {
   "display_name": "Python 3",
   "language": "python",
   "name": "python3"
  },
  "language_info": {
   "codemirror_mode": {
    "name": "ipython",
    "version": 3
   },
   "file_extension": ".py",
   "mimetype": "text/x-python",
   "name": "python",
   "nbconvert_exporter": "python",
   "pygments_lexer": "ipython3",
   "version": "3.6.3"
  }
 },
 "nbformat": 4,
 "nbformat_minor": 2
}
