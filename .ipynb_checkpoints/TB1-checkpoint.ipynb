{
 "cells": [
  {
   "cell_type": "code",
   "execution_count": 1,
   "metadata": {},
   "outputs": [],
   "source": [
    "from pubnub.pnconfiguration import PNConfiguration\n",
    "from pubnub.pubnub import PubNub, SubscribeListener\n",
    "from pubnub.enums import PNStatusCategory\n",
    "\n",
    "pnconfig = PNConfiguration()\n",
    "pnconfig.subscribe_key=\"sub-c-b1cadece-f0fa-11e3-928e-02ee2ddab7fe\"\n",
    "# for twitter: subkey: \"sub-c-78806dd4-42a6-11e4-aed8-02ee2ddab7fe\", channel: \"pubnub-twitter\"\n",
    "# for game: subkey: \"sub-c-b1cadece-f0fa-11e3-928e-02ee2ddab7fe\", channel: \"pubnub-game-state\"\n",
    "pnconfig.ssl = False\n",
    "\n",
    "pubnub = PubNub(pnconfig)"
   ]
  },
  {
   "cell_type": "code",
   "execution_count": 2,
   "metadata": {},
   "outputs": [
    {
     "name": "stdout",
     "output_type": "stream",
     "text": [
      "connected\n",
      "[{u'action_value': 481, u'coord_y': 81, u'coord_x': 43, u'action_name': u'Immolate', u'action_type': u'DoT', u'player_id': 872}, {u'action_value': 676, u'coord_y': 17, u'coord_x': 12, u'action_name': u'Over 9000', u'action_type': u'Instant', u'player_id': 883}, {u'action_value': 461, u'coord_y': 31, u'coord_x': 14, u'action_name': u'Over 9000', u'action_type': u'Instant', u'player_id': 640}, {u'action_value': 320, u'coord_y': 43, u'coord_x': 90, u'action_name': u'Rend', u'action_type': u'DoT', u'player_id': 952}, {u'action_value': 372, u'coord_y': 79, u'coord_x': 28, u'action_name': u'Immolate', u'action_type': u'DoT', u'player_id': 652}, {u'action_value': 545, u'coord_y': 29, u'coord_x': 11, u'action_name': u'Over 9000', u'action_type': u'Instant', u'player_id': 573}, {u'action_value': 357, u'coord_y': 76, u'coord_x': 39, u'action_name': u'Curaga', u'action_type': u'AoE', u'player_id': 570}, {u'action_value': 497, u'coord_y': 18, u'coord_x': 12, u'action_name': u'Immolate', u'action_type': u'DoT', u'player_id': 552}, {u'action_value': 362, u'coord_y': 35, u'coord_x': 29, u'action_name': u'Rend', u'action_type': u'DoT', u'player_id': 993}, {u'action_value': 496, u'coord_y': 44, u'coord_x': 99, u'action_name': u'Over 9000', u'action_type': u'Instant', u'player_id': 883}, {u'action_value': 466, u'coord_y': 50, u'coord_x': 84, u'action_name': u'Immolate', u'action_type': u'DoT', u'player_id': 821}, {u'action_value': 693, u'coord_y': 79, u'coord_x': 30, u'action_name': u'Frostbolt', u'action_type': u'Instant', u'player_id': 541}, {u'action_value': 569, u'coord_y': 21, u'coord_x': 28, u'action_name': u'Over 9000', u'action_type': u'Instant', u'player_id': 910}, {u'action_value': 366, u'coord_y': 31, u'coord_x': 69, u'action_name': u'Rend', u'action_type': u'DoT', u'player_id': 811}, {u'action_value': 386, u'coord_y': 80, u'coord_x': 36, u'action_name': u'Rend', u'action_type': u'DoT', u'player_id': 982}, {u'action_value': 544, u'coord_y': 36, u'coord_x': 13, u'action_name': u'Rend', u'action_type': u'DoT', u'player_id': 713}, {u'action_value': 346, u'coord_y': 73, u'coord_x': 33, u'action_name': u'Ultima', u'action_type': u'AoE', u'player_id': 850}, {u'action_value': 356, u'coord_y': 14, u'coord_x': 19, u'action_name': u'Over 9000', u'action_type': u'Instant', u'player_id': 652}, {u'action_value': 478, u'coord_y': 16, u'coord_x': 26, u'action_name': u'Frostbolt', u'action_type': u'Instant', u'player_id': 891}, {u'action_value': 430, u'coord_y': 55, u'coord_x': 99, u'action_name': u'Heal', u'action_type': u'Instant', u'player_id': 691}, {u'action_value': 534, u'coord_y': 73, u'coord_x': 43, u'action_name': u'Rend', u'action_type': u'DoT', u'player_id': 743}, {u'action_value': 347, u'coord_y': 80, u'coord_x': 42, u'action_name': u'Frostbolt', u'action_type': u'Instant', u'player_id': 961}, {u'action_value': 382, u'coord_y': 31, u'coord_x': 11, u'action_name': u'Immolate', u'action_type': u'DoT', u'player_id': 862}, {u'action_value': 513, u'coord_y': 84, u'coord_x': 37, u'action_name': u'Arcane Explosion', u'action_type': u'AoE', u'player_id': 932}, {u'action_value': 551, u'coord_y': 51, u'coord_x': 95, u'action_name': u'Arcane Explosion', u'action_type': u'AoE', u'player_id': 922}, {u'action_value': 537, u'coord_y': 79, u'coord_x': 31, u'action_name': u'Rend', u'action_type': u'DoT', u'player_id': 830}, {u'action_value': 607, u'coord_y': 58, u'coord_x': 98, u'action_name': u'Immolate', u'action_type': u'DoT', u'player_id': 791}, {u'action_value': 543, u'coord_y': 18, u'coord_x': 26, u'action_name': u'Arcane Explosion', u'action_type': u'AoE', u'player_id': 533}, {u'action_value': 497, u'coord_y': 69, u'coord_x': 31, u'action_name': u'Over 9000', u'action_type': u'Instant', u'player_id': 960}, {u'action_value': 470, u'coord_y': 70, u'coord_x': 37, u'action_name': u'Heal', u'action_type': u'Instant', u'player_id': 980}, {u'action_value': 387, u'coord_y': 27, u'coord_x': 69, u'action_name': u'Heal', u'action_type': u'Instant', u'player_id': 590}, {u'action_value': 432, u'coord_y': 18, u'coord_x': 37, u'action_name': u'Over 9000', u'action_type': u'Instant', u'player_id': 782}, {u'action_value': 594, u'coord_y': 75, u'coord_x': 29, u'action_name': u'Curaga', u'action_type': u'AoE', u'player_id': 763}, {u'action_value': 492, u'coord_y': 24, u'coord_x': 62, u'action_name': u'Rend', u'action_type': u'DoT', u'player_id': 761}, {u'action_value': 401, u'coord_y': 46, u'coord_x': 70, u'action_name': u'Ultima', u'action_type': u'AoE', u'player_id': 760}, {u'action_value': 516, u'coord_y': 83, u'coord_x': 41, u'action_name': u'Ultima', u'action_type': u'AoE', u'player_id': 633}, {u'action_value': 422, u'coord_y': 48, u'coord_x': 88, u'action_name': u'Rend', u'action_type': u'DoT', u'player_id': 792}, {u'action_value': 506, u'coord_y': 26, u'coord_x': 95, u'action_name': u'Ultima', u'action_type': u'AoE', u'player_id': 733}, {u'action_value': 608, u'coord_y': 20, u'coord_x': 21, u'action_name': u'Heal', u'action_type': u'Instant', u'player_id': 773}, {u'action_value': 597, u'coord_y': 44, u'coord_x': 92, u'action_name': u'Immolate', u'action_type': u'DoT', u'player_id': 922}]\n"
     ]
    }
   ],
   "source": [
    "my_listener = SubscribeListener()\n",
    "pubnub.add_listener(my_listener)\n",
    "\n",
    "pubnub.subscribe().channels('pubnub-game-state').execute()\n",
    "my_listener.wait_for_connect()\n",
    "print('connected')\n",
    "\n",
    "#pubnub.publish().channel('pubnub-game-state').message({}).sync()\n",
    "\n",
    "data = []\n",
    "hashMap = [[] for bucket in range(10)]\n",
    "for i in range(0, 100):\n",
    "    result = my_listener.wait_for_message_on('pubnub-game-state')\n",
    "    hashkey = hash(result.message[\"player_id\"]) % len(hashMap)\n",
    "    if hashkey <= 3:\n",
    "        data.append(result.message)\n",
    "\n",
    "print data"
   ]
  },
  {
   "cell_type": "code",
   "execution_count": null,
   "metadata": {},
   "outputs": [],
   "source": []
  }
 ],
 "metadata": {
  "kernelspec": {
   "display_name": "Python 2",
   "language": "python",
   "name": "python2"
  },
  "language_info": {
   "codemirror_mode": {
    "name": "ipython",
    "version": 2
   },
   "file_extension": ".py",
   "mimetype": "text/x-python",
   "name": "python",
   "nbconvert_exporter": "python",
   "pygments_lexer": "ipython2",
   "version": "2.7.15"
  }
 },
 "nbformat": 4,
 "nbformat_minor": 2
}
